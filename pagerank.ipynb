{
 "cells": [
  {
   "cell_type": "markdown",
   "metadata": {},
   "source": [
    "## Charger la matrice "
   ]
  },
  {
   "cell_type": "code",
   "execution_count": 2,
   "metadata": {},
   "outputs": [
    {
     "data": {
      "text/plain": [
       "array([[8.500e-01, 0.000e+00, 1.490e-01, 9.000e-04, 0.000e+00, 5.000e-05,\n",
       "        0.000e+00, 5.000e-05],\n",
       "       [1.000e-01, 6.500e-01, 2.490e-01, 0.000e+00, 9.000e-04, 5.000e-05,\n",
       "        0.000e+00, 5.000e-05],\n",
       "       [1.000e-01, 8.000e-01, 9.960e-02, 4.000e-04, 0.000e+00, 0.000e+00,\n",
       "        1.000e-04, 0.000e+00],\n",
       "       [0.000e+00, 0.000e+00, 0.000e+00, 0.000e+00, 0.000e+00, 0.000e+00,\n",
       "        0.000e+00, 0.000e+00],\n",
       "       [5.000e-04, 0.000e+00, 4.000e-04, 3.900e-01, 6.000e-01, 1.000e-04,\n",
       "        0.000e+00, 0.000e+00],\n",
       "       [0.000e+00, 5.000e-05, 0.000e+00, 0.000e+00, 5.000e-05, 6.000e-01,\n",
       "        2.499e-01, 1.500e-01],\n",
       "       [3.000e-05, 0.000e+00, 3.000e-05, 4.000e-05, 0.000e+00, 1.000e-01,\n",
       "        8.000e-01, 9.990e-02],\n",
       "       [0.000e+00, 5.000e-05, 0.000e+00, 0.000e+00, 5.000e-05, 1.999e-01,\n",
       "        2.500e-01, 5.500e-01]])"
      ]
     },
     "execution_count": 2,
     "metadata": {},
     "output_type": "execute_result"
    }
   ],
   "source": [
    "import numpy as np\n",
    "import matplotlib.pyplot as plt\n",
    "\n",
    "matrice1 = np.zeros((8, 8))\n",
    "\n",
    "def matrice_web(matrice):\n",
    "    with open(\"courtois.txt\") as f:\n",
    "        l = 0\n",
    "        l_m = 0\n",
    "\n",
    "        for ligne in f:\n",
    "            col = ligne.split()\n",
    "            if l > 1:\n",
    "                for i in range(2, len(col), 2):\n",
    "                    matrice[l_m, int(col[i])-1] = float(col[i+1])\n",
    "                l_m = l_m + 1 \n",
    "            l = l + 1\n",
    "    return matrice\n",
    "\n",
    "matrice_web(matrice1)"
   ]
  },
  {
   "cell_type": "markdown",
   "metadata": {},
   "source": [
    "## Calcul Pagerank de google"
   ]
  },
  {
   "cell_type": "code",
   "execution_count": 3,
   "metadata": {},
   "outputs": [
    {
     "name": "stdout",
     "output_type": "stream",
     "text": [
      "[[0.02604881]\n",
      " [0.02606427]\n",
      " [0.02607093]\n",
      " [0.00326597]\n",
      " [0.00927255]\n",
      " [0.02615106]\n",
      " [0.02615094]\n",
      " [0.02615106]]\n"
     ]
    }
   ],
   "source": [
    "def pagerank(matrice, nb_page):\n",
    "    coef = 0.85\n",
    "    epsilon = 0.005\n",
    "\n",
    "    v = np.random.rand(nb_page, 1)\n",
    "    v = v / np.linalg.norm(v, 1)\n",
    "\n",
    "    m = coef * matrice + (1 - coef) / nb_page\n",
    "\n",
    "    for i in range(100):\n",
    "        v2 = m @ v\n",
    "        if np.linalg.norm(v2 - v, 1) < epsilon:\n",
    "            break\n",
    "        v = v2\n",
    "    return v\n",
    "\n",
    "orig = pagerank(matrice1, len(matrice1))\n",
    "print(orig)"
   ]
  },
  {
   "cell_type": "markdown",
   "metadata": {},
   "source": [
    "## Modification graphe de web"
   ]
  },
  {
   "cell_type": "markdown",
   "metadata": {},
   "source": [
    "### Identifier les pages sans lien de sortie"
   ]
  },
  {
   "cell_type": "code",
   "execution_count": 4,
   "metadata": {},
   "outputs": [
    {
     "name": "stdout",
     "output_type": "stream",
     "text": [
      "Les pages sans lien de sortie :  [4]\n",
      "Nombre de duplication à faire :  4\n"
     ]
    }
   ],
   "source": [
    "ligne_null = []\n",
    "for i, ligne in enumerate(matrice1):\n",
    "    if all(element == 0 for element in ligne):\n",
    "        ligne_null.append(i+1)\n",
    "print(\"Les pages sans lien de sortie : \", ligne_null)\n",
    "\n",
    "dupli = 0\n",
    "for page in matrice1:\n",
    "    if page[3] != 0:\n",
    "        dupli += 1\n",
    "\n",
    "print(\"Nombre de duplication à faire : \", dupli)"
   ]
  },
  {
   "cell_type": "markdown",
   "metadata": {},
   "source": [
    "### Graphe du web modifié"
   ]
  },
  {
   "cell_type": "code",
   "execution_count": 5,
   "metadata": {},
   "outputs": [],
   "source": [
    "nom = 1\n",
    "flag = True\n",
    "\n",
    "with open(\"courtois.txt\", \"r\") as f:\n",
    "    lignes = f.readlines()\n",
    "    with open(\"courtoisV2.txt\", \"w\") as f2:\n",
    "        for i in lignes:\n",
    "            liste = i[3:].split()\n",
    "            for ele in liste:\n",
    "                if ele == \"4\":\n",
    "                    f2.write(i.replace(\" 4 \", \" (4,\"+ str(nom)+\") \"))\n",
    "                    nom += 1\n",
    "                    flag = False\n",
    "            if flag:\n",
    "                f2.write(i)\n",
    "            flag = True\n",
    "\n",
    "with open(\"courtoisV2.txt\", \"a\") as f2:\n",
    "    for i in range(nom - 1):\n",
    "        f2.write(\"\\n(4,\"+ str(i)+\")\" + \" 0\")\n"
   ]
  },
  {
   "cell_type": "code",
   "execution_count": 6,
   "metadata": {},
   "outputs": [
    {
     "data": {
      "text/plain": [
       "array([[8.500e-01, 0.000e+00, 1.490e-01, 9.000e-04, 0.000e+00, 5.000e-05,\n",
       "        0.000e+00, 5.000e-05, 0.000e+00, 0.000e+00, 0.000e+00, 0.000e+00],\n",
       "       [1.000e-01, 6.500e-01, 2.490e-01, 0.000e+00, 9.000e-04, 5.000e-05,\n",
       "        0.000e+00, 5.000e-05, 0.000e+00, 0.000e+00, 0.000e+00, 0.000e+00],\n",
       "       [1.000e-01, 8.000e-01, 9.960e-02, 4.000e-04, 0.000e+00, 0.000e+00,\n",
       "        1.000e-04, 0.000e+00, 0.000e+00, 0.000e+00, 0.000e+00, 0.000e+00],\n",
       "       [0.000e+00, 0.000e+00, 0.000e+00, 0.000e+00, 0.000e+00, 0.000e+00,\n",
       "        0.000e+00, 0.000e+00, 0.000e+00, 0.000e+00, 0.000e+00, 0.000e+00],\n",
       "       [5.000e-04, 0.000e+00, 4.000e-04, 3.900e-01, 6.000e-01, 1.000e-04,\n",
       "        0.000e+00, 0.000e+00, 0.000e+00, 0.000e+00, 0.000e+00, 0.000e+00],\n",
       "       [0.000e+00, 5.000e-05, 0.000e+00, 0.000e+00, 5.000e-05, 6.000e-01,\n",
       "        2.499e-01, 1.500e-01, 0.000e+00, 0.000e+00, 0.000e+00, 0.000e+00],\n",
       "       [3.000e-05, 0.000e+00, 3.000e-05, 4.000e-05, 0.000e+00, 1.000e-01,\n",
       "        8.000e-01, 9.990e-02, 0.000e+00, 0.000e+00, 0.000e+00, 0.000e+00],\n",
       "       [0.000e+00, 5.000e-05, 0.000e+00, 0.000e+00, 5.000e-05, 1.999e-01,\n",
       "        2.500e-01, 5.500e-01, 0.000e+00, 0.000e+00, 0.000e+00, 0.000e+00],\n",
       "       [0.000e+00, 0.000e+00, 0.000e+00, 0.000e+00, 0.000e+00, 0.000e+00,\n",
       "        0.000e+00, 0.000e+00, 0.000e+00, 0.000e+00, 0.000e+00, 0.000e+00],\n",
       "       [0.000e+00, 0.000e+00, 0.000e+00, 0.000e+00, 0.000e+00, 0.000e+00,\n",
       "        0.000e+00, 0.000e+00, 0.000e+00, 0.000e+00, 0.000e+00, 0.000e+00],\n",
       "       [0.000e+00, 0.000e+00, 0.000e+00, 0.000e+00, 0.000e+00, 0.000e+00,\n",
       "        0.000e+00, 0.000e+00, 0.000e+00, 0.000e+00, 0.000e+00, 0.000e+00],\n",
       "       [0.000e+00, 0.000e+00, 0.000e+00, 0.000e+00, 0.000e+00, 0.000e+00,\n",
       "        0.000e+00, 0.000e+00, 0.000e+00, 0.000e+00, 0.000e+00, 0.000e+00]])"
      ]
     },
     "execution_count": 6,
     "metadata": {},
     "output_type": "execute_result"
    }
   ],
   "source": [
    "matrice2 = np.zeros((12,12))\n",
    "\n",
    "matrice_web(matrice2)"
   ]
  },
  {
   "cell_type": "code",
   "execution_count": 7,
   "metadata": {},
   "outputs": [
    {
     "name": "stdout",
     "output_type": "stream",
     "text": [
      "[[0.01096449]\n",
      " [0.0109704 ]\n",
      " [0.01097386]\n",
      " [0.00098168]\n",
      " [0.00295331]\n",
      " [0.01085277]\n",
      " [0.01085277]\n",
      " [0.01085277]\n",
      " [0.00098168]\n",
      " [0.00098168]\n",
      " [0.00098168]\n",
      " [0.00098168]]\n"
     ]
    }
   ],
   "source": [
    "modif = pagerank(matrice2, len(matrice2))\n",
    "print(modif)"
   ]
  },
  {
   "cell_type": "code",
   "execution_count": 8,
   "metadata": {},
   "outputs": [
    {
     "name": "stdout",
     "output_type": "stream",
     "text": [
      "[[0.01091878]\n",
      " [0.01092476]\n",
      " [0.01092822]\n",
      " [0.00097519]\n",
      " [0.00293384]\n",
      " [0.01075404]\n",
      " [0.01075404]\n",
      " [0.01075404]\n",
      " [0.00097519]\n",
      " [0.00097519]\n",
      " [0.00097519]\n",
      " [0.00097519]]\n"
     ]
    }
   ],
   "source": [
    "modif = pagerank(matrice2, len(matrice2))\n",
    "print(modif)"
   ]
  },
  {
   "cell_type": "code",
   "execution_count": 9,
   "metadata": {},
   "outputs": [
    {
     "data": {
      "image/png": "[encoded data removed]",
      "text/plain": [
       "<Figure size 640x480 with 1 Axes>"
      ]
     },
     "metadata": {},
     "output_type": "display_data"
    }
   ],
   "source": [
    "x = np.arange(1, len(matrice2)+1)\n",
    "x2 = np.arange(1, len(matrice1)+1)\n",
    "\n",
    "plt.plot(x, modif)\n",
    "plt.plot(x2, orig)\n",
    "plt.show()"
   ]
  }
 ],
 "metadata": {
  "kernelspec": {
   "display_name": "Python 3",
   "language": "python",
   "name": "python3"
  },
  "language_info": {
   "codemirror_mode": {
    "name": "ipython",
    "version": 3
   },
   "file_extension": ".py",
   "mimetype": "text/x-python",
   "name": "python",
   "nbconvert_exporter": "python",
   "pygments_lexer": "ipython3",
   "version": "3.12.3"
  }
 },
 "nbformat": 4,
 "nbformat_minor": 2
}
